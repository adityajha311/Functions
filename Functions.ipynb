{
  "nbformat": 4,
  "nbformat_minor": 0,
  "metadata": {
    "colab": {
      "provenance": []
    },
    "kernelspec": {
      "name": "python3",
      "display_name": "Python 3"
    },
    "language_info": {
      "name": "python"
    }
  },
  "cells": [
    {
      "cell_type": "markdown",
      "source": [
        "                 Theory Questions"
      ],
      "metadata": {
        "id": "oZ46LLEWX4TP"
      }
    },
    {
      "cell_type": "markdown",
      "source": [
        "1. What is the difference between a function and a method in Python?\n",
        "- A function is a reusable block of code that performs a specific task. It is defined using the def keyword and is independent of any object.\n",
        "\n",
        "- A method is similar to a function but is associated with an object (like a string, list, etc.). Methods are called on objects using dot . notation.\n",
        "\n",
        "Example:\n",
        "If we have a string and we want to convert it to uppercase, we use a method. But if we want to write logic to add two numbers, we use a function.\n"
      ],
      "metadata": {
        "id": "CbvzHvOyYExd"
      }
    },
    {
      "cell_type": "markdown",
      "source": [
        "2. Explain the concept of function arguments and parameters in Python.\n",
        "\n",
        "- Parameters are the variables defined in a function's definition. They act as placeholders.\n",
        "\n",
        "- Arguments are the actual values passed to the function when calling it.\n",
        "\n",
        "- Think of parameters as empty boxes and arguments as the actual items we put in those boxes when we call the function.\n",
        "\n"
      ],
      "metadata": {
        "id": "_cW83jwVY9QZ"
      }
    },
    {
      "cell_type": "markdown",
      "source": [
        "3. What are the different ways to define and call a function in Python?\n",
        "\n",
        "There are multiple ways:\n",
        "\n",
        "- Standard Function: Using def keyword to define and calling it by name.\n",
        "\n",
        "- Anonymous Function (Lambda): Useful when we need a quick function for a short task.\n",
        "\n",
        "- Built-in Functions: Python has many pre-defined functions like len(), sum() etc.\n",
        "\n",
        "- Each function can be called by using parentheses with arguments."
      ],
      "metadata": {
        "id": "2Cgy_Y0oZdX3"
      }
    },
    {
      "cell_type": "markdown",
      "source": [
        "4. What is the purpose of the return statement in a Python function?\n",
        "\n",
        "- The return statement sends the output from the function back to the place where it was called.\n",
        "\n",
        "- It helps us use the result later in the program.\n",
        "\n",
        "- Without return, the function finishes its task but doesn’t give any value back."
      ],
      "metadata": {
        "id": "k469UC9BaHjz"
      }
    },
    {
      "cell_type": "markdown",
      "source": [
        "5. What are iterators in Python and how do they differ from iterables?\n",
        "\n",
        "- An iterable is any object that can be looped over, like lists, tuples, strings.\n",
        "\n",
        "- An iterator is an object that helps in iterating (moving through) the iterable one element at a time using a method internally.\n",
        "\n",
        "The main difference is:\n",
        "\n",
        "- Iterable: Can be looped over.\n",
        "\n",
        "- Iterator: Does the actual work of stepping through items one-by-one.\n",
        "\n"
      ],
      "metadata": {
        "id": "Lz9Pa1kxaVRl"
      }
    },
    {
      "cell_type": "markdown",
      "source": [
        "6. Explain the concept of generators in Python and how they are defined.\n",
        "\n",
        "- Generators are special types of functions that give values one at a time, instead of all at once.\n",
        "\n",
        "- They pause and resume their execution, which saves memory.\n",
        "\n",
        "- They are defined like functions but use the yield keyword instead of return.\n",
        "\n",
        "They are helpful for handling large data or infinite sequences efficiently."
      ],
      "metadata": {
        "id": "jkxBv8Q7bACk"
      }
    },
    {
      "cell_type": "markdown",
      "source": [
        "7. What are the advantages of using generators over regular functions?\n",
        "\n",
        "- Memory Efficient: Don’t store the whole result in memory.\n",
        "\n",
        "- Faster Start: Begin producing results immediately.\n",
        "\n",
        "- Lazy Evaluation: Only compute values when needed.\n",
        "\n",
        "- Useful for Streaming Data: Like reading big files line by line."
      ],
      "metadata": {
        "id": "F9dhZM_pcIcf"
      }
    },
    {
      "cell_type": "markdown",
      "source": [
        "8. What is a lambda function in Python and when is it typically used?\n",
        "\n",
        "- A lambda function is a small, anonymous (nameless) function written in one line.\n",
        "\n",
        "- Used when a short function is needed temporarily (for example, in sorting, filtering, or mapping).\n",
        "\n",
        "- It helps in keeping code compact and readable, especially in functional programming.\n",
        "\n"
      ],
      "metadata": {
        "id": "bqKrWXP4cnfN"
      }
    },
    {
      "cell_type": "markdown",
      "source": [
        "9. Explain the purpose and usage of the map() function in Python.\n",
        "\n",
        "- map() is used to apply a function to every item in a list (or other iterable).\n",
        "\n",
        "- Instead of writing a loop to do the same action on every item, map() does it in a single line.\n",
        "\n",
        "- It is efficient and improves code readability."
      ],
      "metadata": {
        "id": "OD--YQhrcwrw"
      }
    },
    {
      "cell_type": "markdown",
      "source": [
        "10: What is the difference between map(), reduce(), and filter() functions in Python?\n",
        "\n",
        "🔹 map(function, iterable)\n",
        "- Purpose: Applies a function to every item.\n",
        "\n",
        "- Returns: New iterable with modified items.\n",
        "\n",
        "- Example Use: Squaring all numbers in a list.\n",
        "\n",
        "🔹 filter(function, iterable)\n",
        "- Purpose: Keeps only items where the function returns True.\n",
        "\n",
        "- Returns: New iterable with filtered items.\n",
        "\n",
        "- Example Use: Keeping only even numbers.\n",
        "\n",
        "🔹 reduce(function, iterable)\n",
        "- Purpose: Combines all items into a single value.\n",
        "\n",
        "- Returns: One final result.\n",
        "\n",
        "- Example Use: Summing all numbers in a list."
      ],
      "metadata": {
        "id": "xrptSlcYdH51"
      }
    },
    {
      "cell_type": "markdown",
      "source": [
        "11. Internal Mechanism of Reduce Function (Pen & Paper)\n",
        "\n",
        "- You are asked to draw this on paper, but here’s what happens inside:\n",
        "\n",
        "- Given list: [47, 11, 42, 13]\n",
        "\n",
        "- Start with first two numbers → 47 + 11 = 58\n",
        "\n",
        "- Then add the next → 58 + 42 = 100\n",
        "\n",
        "- Then the last → 100 + 13 = 113\n",
        "\n",
        "- Final result = 113\n",
        "\n",
        "- This is how reduce() works: It reduces the list step-by-step to a single value using the operation (in this case, addition)."
      ],
      "metadata": {
        "id": "naTOhCRaerx3"
      }
    },
    {
      "cell_type": "markdown",
      "source": [
        "                           Practical Questions"
      ],
      "metadata": {
        "id": "KWxSZBgufbhP"
      }
    },
    {
      "cell_type": "markdown",
      "source": [
        "Q1: Write a Python function that takes a list of numbers as input and returns the sum of all even numbers in the list\n",
        "\n"
      ],
      "metadata": {
        "id": "z0urb_Rpfuly"
      }
    },
    {
      "cell_type": "code",
      "source": [
        "def sum_even(numbers):\n",
        "    return sum(num for num in numbers if num % 2 == 0)\n",
        "\n",
        "input_list = [12, 5, 8, 3, 7, 10]\n",
        "result = sum_even(input_list)\n",
        "print(\"Sum of even numbers:\", result)\n"
      ],
      "metadata": {
        "colab": {
          "base_uri": "https://localhost:8080/"
        },
        "id": "xQeEPyRrgUZE",
        "outputId": "a1eec9c5-67a5-45da-faeb-94c662df5183"
      },
      "execution_count": 2,
      "outputs": [
        {
          "output_type": "stream",
          "name": "stdout",
          "text": [
            "Sum of even numbers: 30\n"
          ]
        }
      ]
    },
    {
      "cell_type": "markdown",
      "source": [
        "Q2: Create a Python function that accepts a string and returns the reverse of that string::"
      ],
      "metadata": {
        "id": "lTeKdLnxxnef"
      }
    },
    {
      "cell_type": "code",
      "source": [
        "def reverse_string(s):\n",
        "    return s[::-1]\n",
        "\n",
        "input_str = \"hello world\"\n",
        "result = reverse_string(input_str)\n",
        "print(\"Reversed string:\", result)\n"
      ],
      "metadata": {
        "colab": {
          "base_uri": "https://localhost:8080/"
        },
        "id": "wD5We7SRyY89",
        "outputId": "d6d1bf46-517b-4f73-d3b2-2ae457d4a472"
      },
      "execution_count": 3,
      "outputs": [
        {
          "output_type": "stream",
          "name": "stdout",
          "text": [
            "Reversed string: dlrow olleh\n"
          ]
        }
      ]
    },
    {
      "cell_type": "markdown",
      "source": [
        "Q3: Implement a Python function that takes a list of integers and returns a new list containing the squares of each number"
      ],
      "metadata": {
        "id": "-yuNlnQ6zKXZ"
      }
    },
    {
      "cell_type": "code",
      "source": [
        "def square_list(numbers):\n",
        "    return [num ** 2 for num in numbers]\n",
        "\n",
        "input_list = [1, 2, 3, 4, 5]\n",
        "result = square_list(input_list)\n",
        "print(\"List of squares:\", result)\n"
      ],
      "metadata": {
        "colab": {
          "base_uri": "https://localhost:8080/"
        },
        "id": "kCjFsANOzQaq",
        "outputId": "e6fc4dd2-efbf-4c76-90c5-12767a86a87a"
      },
      "execution_count": 4,
      "outputs": [
        {
          "output_type": "stream",
          "name": "stdout",
          "text": [
            "List of squares: [1, 4, 9, 16, 25]\n"
          ]
        }
      ]
    },
    {
      "cell_type": "markdown",
      "source": [
        "Q4: Write a Python function that checks if a given number is prime or not from 1 to 200"
      ],
      "metadata": {
        "id": "qsu1N0bMzZhs"
      }
    },
    {
      "cell_type": "code",
      "source": [
        "def is_prime(n):\n",
        "    if n <= 1:\n",
        "        return False\n",
        "    for i in range(2, int(n ** 0.5) + 1):\n",
        "        if n % i == 0:\n",
        "            return False\n",
        "    return True\n",
        "\n",
        "prime_list = [n for n in range(1, 201) if is_prime(n)]\n",
        "print(\"Prime numbers from 1 to 200:\", prime_list)\n"
      ],
      "metadata": {
        "colab": {
          "base_uri": "https://localhost:8080/"
        },
        "id": "kwV1GCeNzjmL",
        "outputId": "e3e24a77-6e6d-42e9-8773-e8b5f9a24b34"
      },
      "execution_count": 5,
      "outputs": [
        {
          "output_type": "stream",
          "name": "stdout",
          "text": [
            "Prime numbers from 1 to 200: [2, 3, 5, 7, 11, 13, 17, 19, 23, 29, 31, 37, 41, 43, 47, 53, 59, 61, 67, 71, 73, 79, 83, 89, 97, 101, 103, 107, 109, 113, 127, 131, 137, 139, 149, 151, 157, 163, 167, 173, 179, 181, 191, 193, 197, 199]\n"
          ]
        }
      ]
    },
    {
      "cell_type": "markdown",
      "source": [
        " Q5: Create an iterator class in Python that generates the Fibonacci sequence up to a specified number of terms"
      ],
      "metadata": {
        "id": "hh0OBtwa0BV0"
      }
    },
    {
      "cell_type": "code",
      "source": [
        "class Fibonacci:\n",
        "    def __init__(self, max_terms):\n",
        "        self.max_terms = max_terms\n",
        "        self.a, self.b = 0, 1\n",
        "        self.count = 0\n",
        "\n",
        "    def __iter__(self):\n",
        "        return self\n",
        "\n",
        "    def __next__(self):\n",
        "        if self.count >= self.max_terms:\n",
        "            raise StopIteration\n",
        "        value = self.a\n",
        "        self.a, self.b = self.b, self.a + self.b\n",
        "        self.count += 1\n",
        "        return value\n",
        "\n",
        "fib = Fibonacci(10)\n",
        "for num in fib:\n",
        "    print(num, end=' ')\n"
      ],
      "metadata": {
        "colab": {
          "base_uri": "https://localhost:8080/"
        },
        "id": "lK8FxRMf0Jbd",
        "outputId": "6ef906cb-69c8-4647-ee5d-e6ea02fdf565"
      },
      "execution_count": 6,
      "outputs": [
        {
          "output_type": "stream",
          "name": "stdout",
          "text": [
            "0 1 1 2 3 5 8 13 21 34 "
          ]
        }
      ]
    },
    {
      "cell_type": "markdown",
      "source": [
        "Q6: Write a generator function in Python that yields the powers of 2 up to a given exponent"
      ],
      "metadata": {
        "id": "zZc4nh-30Sib"
      }
    },
    {
      "cell_type": "code",
      "source": [
        "def powers_of_two(n):\n",
        "    for i in range(n + 1):\n",
        "        yield 2 ** i\n",
        "\n",
        "for value in powers_of_two(5):\n",
        "    print(value, end=' ')\n"
      ],
      "metadata": {
        "colab": {
          "base_uri": "https://localhost:8080/"
        },
        "id": "PWeBJege0tka",
        "outputId": "98f5695f-0c14-4f93-edb4-eb7bb1fa4fca"
      },
      "execution_count": 7,
      "outputs": [
        {
          "output_type": "stream",
          "name": "stdout",
          "text": [
            "1 2 4 8 16 32 "
          ]
        }
      ]
    },
    {
      "cell_type": "markdown",
      "source": [
        "Q7: Implement a generator function that reads a file line by line and yields each line as a string"
      ],
      "metadata": {
        "id": "31uXcDdH0y49"
      }
    },
    {
      "cell_type": "code",
      "source": [
        "with open(\"example.txt\", \"w\") as f:\n",
        "    f.write(\"Line 1\\nLine 2\\nLine 3\")\n",
        "\n",
        "def read_file_lines(filename):\n",
        "    with open(filename, 'r') as file:\n",
        "        for line in file:\n",
        "            yield line.strip()\n",
        "\n",
        "for line in read_file_lines(\"example.txt\"):\n",
        "    print(line)\n"
      ],
      "metadata": {
        "colab": {
          "base_uri": "https://localhost:8080/"
        },
        "id": "ropCFKLp1YMJ",
        "outputId": "fa639a23-3793-42e8-d6d9-cfa648ea2b5e"
      },
      "execution_count": 9,
      "outputs": [
        {
          "output_type": "stream",
          "name": "stdout",
          "text": [
            "Line 1\n",
            "Line 2\n",
            "Line 3\n"
          ]
        }
      ]
    },
    {
      "cell_type": "markdown",
      "source": [
        "Q8: Use a lambda function in Python to sort a list of tuples based on the second element of each tuple"
      ],
      "metadata": {
        "id": "EXjH3V0u2Ivx"
      }
    },
    {
      "cell_type": "code",
      "source": [
        "data = [(1, 5), (2, 3), (4, 1), (3, 2)]\n",
        "sorted_data = sorted(data, key=lambda x: x[1])\n",
        "print(\"Sorted tuples:\", sorted_data)\n"
      ],
      "metadata": {
        "colab": {
          "base_uri": "https://localhost:8080/"
        },
        "id": "tw1_ykfm2LAR",
        "outputId": "45d73d98-6bbb-4262-8c0d-ac2673405b08"
      },
      "execution_count": 10,
      "outputs": [
        {
          "output_type": "stream",
          "name": "stdout",
          "text": [
            "Sorted tuples: [(4, 1), (3, 2), (2, 3), (1, 5)]\n"
          ]
        }
      ]
    },
    {
      "cell_type": "markdown",
      "source": [
        "Q9: Write a Python program that uses map() to convert a list of temperatures from Celsius to Fahrenheit"
      ],
      "metadata": {
        "id": "T8bqBL6b2Q-I"
      }
    },
    {
      "cell_type": "code",
      "source": [
        "celsius_list = [0, 25, 30, 40]\n",
        "fahrenheit_list = list(map(lambda c: (c * 9/5) + 32, celsius_list))\n",
        "print(\"Fahrenheit:\", fahrenheit_list)\n"
      ],
      "metadata": {
        "colab": {
          "base_uri": "https://localhost:8080/"
        },
        "id": "kQL1nT3c2ZzX",
        "outputId": "12c9e09e-617d-437c-913a-d43fedeb7d50"
      },
      "execution_count": 11,
      "outputs": [
        {
          "output_type": "stream",
          "name": "stdout",
          "text": [
            "Fahrenheit: [32.0, 77.0, 86.0, 104.0]\n"
          ]
        }
      ]
    },
    {
      "cell_type": "markdown",
      "source": [
        "Q10: Create a Python program that uses filter() to remove all the vowels from a given string"
      ],
      "metadata": {
        "id": "yUZ5GXqk2g1x"
      }
    },
    {
      "cell_type": "code",
      "source": [
        "input_str = \"Hello World, Python is Fun!\"\n",
        "result = ''.join(filter(lambda ch: ch.lower() not in 'aeiou', input_str))\n",
        "print(\"String without vowels:\", result)\n"
      ],
      "metadata": {
        "colab": {
          "base_uri": "https://localhost:8080/"
        },
        "id": "LvNVliMf2rFw",
        "outputId": "aa5a0860-f054-4b88-943c-985bd1378e1c"
      },
      "execution_count": 12,
      "outputs": [
        {
          "output_type": "stream",
          "name": "stdout",
          "text": [
            "String without vowels: Hll Wrld, Pythn s Fn!\n"
          ]
        }
      ]
    },
    {
      "cell_type": "markdown",
      "source": [
        "Q11: Write a Python program which returns a list with 2-tuples. Each tuple consists of the order number and the product of the price per item and the quantity. The product should be increased by 10,- € if the value of the order is smaller than 100,00 €. Use lambda and map."
      ],
      "metadata": {
        "id": "7MOpevJ92xwa"
      }
    },
    {
      "cell_type": "code",
      "source": [
        "orders = [\n",
        "    [101, 20.0, 2],\n",
        "    [102, 5.0, 10],\n",
        "    [103, 100.0, 1]\n",
        "]\n",
        "\n",
        "result = list(map(lambda order: (order[0], order[1] * order[2] + (10 if order[1] * order[2] < 100 else 0)), orders))\n",
        "print(\"Final order values:\", result)\n"
      ],
      "metadata": {
        "colab": {
          "base_uri": "https://localhost:8080/"
        },
        "id": "hz6v76V12630",
        "outputId": "5f70d445-e1fc-4b84-f9c4-ee24b16fe346"
      },
      "execution_count": 13,
      "outputs": [
        {
          "output_type": "stream",
          "name": "stdout",
          "text": [
            "Final order values: [(101, 50.0), (102, 60.0), (103, 100.0)]\n"
          ]
        }
      ]
    }
  ]
}